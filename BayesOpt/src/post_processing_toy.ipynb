{
 "cells": [
  {
   "cell_type": "markdown",
   "metadata": {},
   "source": [
    "# Post processing for toy 1-min and 3-min functions"
   ]
  },
  {
   "cell_type": "markdown",
   "metadata": {},
   "source": []
  },
  {
   "cell_type": "code",
   "execution_count": 1,
   "metadata": {},
   "outputs": [],
   "source": [
    "\n",
    "PARAM_DICT = {\n",
    "        'StringZ:aLund' : [0, 2.0],\n",
    "        'StringZ:bLund': [0, 2.0],\n",
    "        # 'StringZ:rFactC':[0.0, 2.0],\n",
    "        # 'StringZ:rFactB': [0., 2.0],\n",
    "        # 'StringZ:aExtraSQuark':[0.,2.],\n",
    "        # 'StringZ:aExtraDiquark':[0.,2.],\n",
    "        # 'StringPT:sigma':[0.,1.],\n",
    "        # 'StringPT:enhancedFraction':[0.,1.],\n",
    "        # 'StringPT:enhancedWidth':[1.0,10.0],\n",
    "        'StringFlav:ProbStoUD':[0,1.0],\n",
    "        'StringFlav:probQQtoQ':[0,1.0],\n",
    "        # 'StringFlav:probSQtoQQ':[0,1.0],\n",
    "        # 'StringFlav:ProbQQ1toQQ0':[0,1.0],\n",
    "        'TimeShower:alphaSvalue':[0.06,0.25],\n",
    "        'TimeShower:pTmin':[0.1,2.0]\n",
    "}\n",
    "\n",
    "MONASH_DICT = {\n",
    "    \"aLund\" : 0.68, \n",
    "    \"bLund\" : 0.98,\n",
    "    # \"rFactC\": 1.32,\n",
    "    # \"rFactB\":0.855,\n",
    "    # \"aExtraSQuark\": 0.0,\n",
    "    # \"aExtraDiquark\":0.97,\n",
    "    # \"sigma\":0.335,\n",
    "    # \"enhancedFraction\":0.01,\n",
    "    # \"enhancedWidth\":2.0,\n",
    "    \"ProbStoUD\":0.217,\n",
    "    \"probQQtoQ\":0.081,\n",
    "    # \"probSQtoQQ\":0.915,\n",
    "    # \"ProbQQ1toQQ0\": 0.0275,\n",
    "    \"alphaSvalue\": 0.1365,\n",
    "    \"pTmin\": 0.5\n",
    "}\n",
    "\n",
    "param_names = list(PARAM_DICT.keys())\n",
    "num_params = len(param_names)\n",
    "POINT2 = {key:0.5*value for key, value in MONASH_DICT.items()}\n",
    "POINT3 = {key:1.5*value for key, value in MONASH_DICT.items()}\n",
    "\n",
    "NUM_PYTHIA_EVENTS=250000\n",
    "#250000, 1000\n",
    "KERNEL = 'Matern'\n",
    "NUM_TRAIN_POINTS=25\n",
    "N_TRAIN_EPOCHS=100\n",
    "N_BO_ITERATIONS = 2# num_params * 30\n",
    "N_OPTIMIZE_ACQ_ITER = 50\n",
    "N_RESTARTS = 25\n",
    "# OPTIMIZE_ACQ_METHOD: ['GD', 'Adam_restarts_clip_bounds', 'Adam_no_clip_bounds', 'scipy']\n",
    "OPTIMIZE_ACQ_METHOD = 'Adam_restarts_clip_bounds'\n",
    "KAPPA=-1E-5"
   ]
  },
  {
   "cell_type": "code",
   "execution_count": 2,
   "metadata": {},
   "outputs": [
    {
     "name": "stdout",
     "output_type": "stream",
     "text": [
      "num_params=6\n"
     ]
    }
   ],
   "source": [
    "param_names = list(PARAM_DICT.keys())\n",
    "num_params =len(PARAM_DICT)\n",
    "print(f'num_params={num_params}')\n",
    "\n",
    "num_train_points_l = [25, 200] #[1]#\n",
    "n_bo_iterations_l = [30, 100, 300]\n",
    "n_optimize_acq_iter_l = [10, 50, 100]\n",
    "n_restarts_l = [5, 25]\n",
    "optimize_acq_method_l = ['Adam_restarts_clip_bounds', 'Adam_no_clip_bounds', 'scipy']\n",
    "\n",
    "for num_train_points in num_train_points_l:\n",
    "    for n_bo_iterations in n_bo_iterations_l:\n",
    "        for n_optimize_acq_iter in n_optimize_acq_iter_l:   \n",
    "            for n_restarts in n_restarts_l:\n",
    "                for optimize_acq_method in optimize_acq_method_l:\n",
    "\n",
    "                    hyper_params_dict = {\n",
    "                    'N_BO_ITERATIONS': n_bo_iterations,\n",
    "                    'N_TRAIN_POINTS': num_train_points,\n",
    "                    'N_PARAMS': num_params,\n",
    "                    'N_OPTIMIZE_ACQ_ITER': n_optimize_acq_iter,\n",
    "                    'N_RESTARTS': n_restarts,\n",
    "                    'KERNEL': KERNEL,\n",
    "                    'OPTIMIZE_ACQ_METHOD': optimize_acq_method,\n",
    "                    'NUM_PYTHIA_EVENTS': NUM_PYTHIA_EVENTS,\n",
    "                    }"
   ]
  },
  {
   "cell_type": "code",
   "execution_count": null,
   "metadata": {},
   "outputs": [],
   "source": []
  }
 ],
 "metadata": {
  "kernelspec": {
   "display_name": "torch_1",
   "language": "python",
   "name": "python3"
  },
  "language_info": {
   "codemirror_mode": {
    "name": "ipython",
    "version": 3
   },
   "file_extension": ".py",
   "mimetype": "text/x-python",
   "name": "python",
   "nbconvert_exporter": "python",
   "pygments_lexer": "ipython3",
   "version": "3.12.2"
  }
 },
 "nbformat": 4,
 "nbformat_minor": 2
}
